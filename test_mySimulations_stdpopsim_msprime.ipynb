{
 "cells": [
  {
   "cell_type": "markdown",
   "metadata": {},
   "source": [
    "# MY SIMULATIONS\n",
    "\n",
    "This is just a test. Now, I am trying to generate different simulations, playing with the parameters and the species. Now, let's see if I understand what I learned."
   ]
  },
  {
   "cell_type": "code",
   "execution_count": 46,
   "metadata": {
    "scrolled": false
   },
   "outputs": [
    {
     "name": "stdout",
     "output_type": "stream",
     "text": [
      "Chromosomes:\n",
      "\tChromosome(id='chr1', length=30427671, recombination_rate=8.1e-09, mutation_rate=7e-09)\n",
      "\tChromosome(id='chr5', length=26975502, recombination_rate=8.1e-09, mutation_rate=7e-09)\n",
      "\tChromosome(id='chr3', length=23459830, recombination_rate=8.1e-09, mutation_rate=7e-09)\n",
      "\tChromosome(id='chr2', length=19698289, recombination_rate=8.1e-09, mutation_rate=7e-09)\n",
      "\tChromosome(id='chr4', length=18585056, recombination_rate=8.1e-09, mutation_rate=7e-09)\n",
      "\n",
      "10000\n",
      "[Citation(doi='https://doi.org/10.1016/j.cell.2016.05.063', author='1001GenomesConsortium', year='2016', reasons={'population size'})]\n",
      "Contig(length=1.9E+06, recombination_rate=8.1E-09, mutation_rate=7E-09, genetic_map=None)\n",
      "IM HEREEEEEEEEEEEEEEE!!!!!!!!!!!!!!!\n"
     ]
    },
    {
     "data": {
      "text/plain": [
       "<tskit.trees.TreeSequence at 0x11eb926a0>"
      ]
     },
     "execution_count": 46,
     "metadata": {},
     "output_type": "execute_result"
    }
   ],
   "source": [
    "# Import modules\n",
    "import sys\n",
    "import os\n",
    "import stdpopsim\n",
    "import msprime\n",
    "\n",
    "# 1. Get species information.\n",
    "# I will start with Arabidopsis beacuse it seems easy. \n",
    "# Less infomration to choose. Data from 1001, one model and less chromosomes\n",
    "# Note: arabidopsis is a class variables\n",
    "# More info, look \"species definitions\" https://stdpopsim.readthedocs.io/en/latest/api.html\n",
    "arabidopsis = stdpopsim.get_species(\"AraTha\")\n",
    "print (arabidopsis.genome)\n",
    "# mutation_rate=7e-09\n",
    "print (arabidopsis.population_size)\n",
    "print (arabidopsis.population_size_citations)\n",
    "#print (arabidopsis.demographic_models)\n",
    "#type (arabidopsis)\n",
    "\n",
    "# 2. Description of the section that is to be simulated based on empricial information\n",
    "# Returns a Contig *instance* describing a section of genome that is to be simulated \n",
    "# based on empirical information for a given species and chromosome.\n",
    "# chr4: The ID of the chromosome to simulate.\n",
    "# length_multiplier: length of the specified chromosome with the same chromosome-specific mutation and recombination rates\n",
    "infoSimulation_arabidopsis=arabidopsis.get_contig(\"chr4\", length_multiplier=0.1)\n",
    "print (infoSimulation_arabidopsis)\n",
    "# infoSimulation_arabidpsis is a class representing a contiguous region of genome that is to be simulated. \n",
    "# This contains the information about mutation rates and recombination rates that are needed to simulate this region.\n",
    "\n",
    "# 3. Generic Model\n",
    "# We will define a class representing a generic simulation model\n",
    "# The piecewise constant size model, which allows for instantaneous population size change over multiple epochs in a single population.\n",
    "# We need the initial population size of our organism\n",
    "model_PiecewiseConstantSize = stdpopsim.PiecewiseConstantSize(arabidopsis.population_size)\n",
    "model_PiecewiseConstantSize\n",
    "\n",
    "# 4. Create input for msprime\n",
    "# Returns a list of msprime.Sample objects as described by the args and keyword args. \n",
    "# Positional arguments are interpreted as the number of samples to take from the given population.\n",
    "samples = model_PiecewiseConstantSize.get_samples(100)\n",
    "#print (samples)\n",
    "\n",
    "# 5. Get the default simulate engine\n",
    "# The default engine is msprime\n",
    "engine_msprime = stdpopsim.get_default_engine()\n",
    "\n",
    "# 6.Simulate the model with the parameters we defined above. \n",
    "# Simulates the model for the specified contig and samples.\n",
    "arabidopsis4_100samples = engine_msprime.simulate(model_PiecewiseConstantSize, infoSimulation_arabidopsis, samples)\n",
    "\n",
    "with open(\"arabidopsis4_100samples.vcf\", \"w\") as vcf_file:\n",
    "    arabidopsis4_100samples.write_vcf(vcf_file)\n",
    "\n",
    "with open(\"arabidopsis4_100samples.fasta\", \"w\") as fasta_file:\n",
    "    arabidopsis4_100samples.write_fasta(fasta_file)\n",
    "\n",
    "\n",
    "print (\"IM HEREEEEEEEEEEEEEEE!!!!!!!!!!!!!!!\")\n",
    "#print (modelPiecewiseConstantSize)\n",
    "\n",
    "#samples = model.get_samples(10)\n",
    "\n",
    "infoSimulation_arabidopsis\n",
    "\n",
    "arabidopsis4_100samples"
   ]
  },
  {
   "cell_type": "markdown",
   "metadata": {},
   "source": [
    "# Much simple"
   ]
  },
  {
   "cell_type": "markdown",
   "metadata": {},
   "source": [
    "We keep this one"
   ]
  },
  {
   "cell_type": "code",
   "execution_count": 52,
   "metadata": {},
   "outputs": [
    {
     "name": "stdout",
     "output_type": "stream",
     "text": [
      "     18            \n",
      "  ┏━━━┻━━━┓        \n",
      "  ┃      17        \n",
      "  ┃     ┏━┻━┓      \n",
      " 16     ┃   ┃      \n",
      "┏━┻━┓   ┃   ┃      \n",
      "┃   ┃   ┃  15      \n",
      "┃   ┃   ┃ ┏━┻━┓    \n",
      "┃  14   ┃ ┃   ┃    \n",
      "┃ ┏━┻┓  ┃ ┃   ┃    \n",
      "┃ ┃  ┃  ┃ ┃  13    \n",
      "┃ ┃  ┃  ┃ ┃ ┏━┻━┓  \n",
      "┃ ┃  ┃  ┃ ┃ ┃  12  \n",
      "┃ ┃  ┃  ┃ ┃ ┃ ┏━┻┓ \n",
      "┃ ┃ 11  ┃ ┃ ┃ ┃  ┃ \n",
      "┃ ┃ ┏┻┓ ┃ ┃ ┃ ┃  ┃ \n",
      "┃ ┃ ┃ ┃ ┃ ┃ ┃ ┃ 10 \n",
      "┃ ┃ ┃ ┃ ┃ ┃ ┃ ┃ ┏┻┓\n",
      "3 1 6 8 2 7 4 0 5 9\n",
      "\n"
     ]
    }
   ],
   "source": [
    "import msprime\n",
    "tree_sequence = msprime.simulate(sample_size=10, length=5000000, mutation_rate=1e-8, Ne=1000)\n",
    "tree = tree_sequence.first()\n",
    "print(tree.draw(format=\"unicode\"))\n",
    "tree_sequence\n",
    "\n",
    "with open(\"tree_seqeunce.fasta\", \"w\") as fasta_file:\n",
    "    tree_sequence.write_vcf(fasta_file)"
   ]
  },
  {
   "cell_type": "code",
   "execution_count": 54,
   "metadata": {},
   "outputs": [
    {
     "data": {
      "text/plain": [
       "<tskit.trees.Tree at 0x12116a3a0>"
      ]
     },
     "execution_count": 54,
     "metadata": {},
     "output_type": "execute_result"
    }
   ],
   "source": [
    "tree_sequence.first()"
   ]
  },
  {
   "cell_type": "code",
   "execution_count": 40,
   "metadata": {},
   "outputs": [
    {
     "data": {
      "text/plain": [
       "Contig(recombination_map=<msprime.simulations.RecombinationMap object at 0x11e5df550>, mutation_rate=7e-09, genetic_map=None)"
      ]
     },
     "execution_count": 40,
     "metadata": {},
     "output_type": "execute_result"
    }
   ],
   "source": [
    "infoSimulation_arabidopsis."
   ]
  },
  {
   "cell_type": "code",
   "execution_count": null,
   "metadata": {},
   "outputs": [],
   "source": [
    "\n",
    "# 2.Get the particular species information. \n",
    "# In this case, we are using Homo sapiens, which has the id (HomSap). \n",
    "# But, you could use any species from the Catalog.\n",
    "species = stdpopsim.get_species(\"HomSap\")\n",
    "print (species)\n",
    "type (species)\n",
    "# Species is an object with all the information of the organism selected. \n",
    "# For example: id, name, common name, genome (chromosomes: id, lenght, recombination rate, mutation rate)\n",
    "# 3.Set the contig length. \n",
    "# We are simulating 0.1 x chromosome 22, which is about 5Mb. \n",
    "# Again, you could use a fraction of any of the chromosomes listed in the Catalog, \n",
    "# keeping in mind that larger contigs will take longer to simulate.\n",
    "contig = species.get_contig(\"chr22\", length_multiplier=0.1)\n",
    "print (contig)\n",
    "# Contig(length=5.1E+06, recombination_rate=1.4E-08, mutation_rate=1.3E-08, genetic_map=None)# 4.Set the model as the generic piecewise constant size model, \n",
    "# Not sure what do they refer with a piece constant size model, I think :\n",
    "# It is the Wright-Fisher model where you have a contant poppulation?\n",
    "# using the predefined human effective population size (see Catalog). \n",
    "# Since we are providing one effective population size, \n",
    "# the model is constant population size for one population over time.\n",
    "model = stdpopsim.PiecewiseConstantSize(species.population_size)\n",
    "print (model)\n",
    "# 5.Set the number of samples and set the simulation engine. \n",
    "# In this case we will simulate 10 samples and use the default simulator, which is msprime. \n",
    "# But, you can go crazy with the sample size! msprime is great at simulating large samples!\n",
    "samples = model.get_samples(10)\n",
    "# We are simulating 10 samples \n",
    "print (samples)\n",
    "engine = stdpopsim.get_default_engine()\n",
    "# the defauld engine is Msprime\n",
    "print (engine)\n",
    "# 6.Simulate the model with the contig length and number of samples we defined above. \n",
    "# We capture the simulation results in a tree sequence object (tskit.TreeSequence).\n",
    "ts = engine.simulate(model, contig, samples)\n",
    "# 7.We can now do some simple checks that our simulation worked with tskit.\n",
    "print (ts.num_samples)\n",
    "print (ts.num_populations)\n",
    "print (ts.num_mutations)\n",
    "ts.num_trees\n",
    "# As expected, there are 10 samples in one population. \n",
    "# We can also see that 6197 mutations and 6863 trees were simulated \n",
    "# (since we are not using a seed here, \n",
    "# the number of mutations and trees will be slightly different for you). \n",
    "# Try running the simulation again, \n",
    "# and notice that the number of samples and populations stays the same, \n",
    "# while the number of mutations and trees changes.\n",
    "# 8. In addition to working directly with the simulated tree squence, \n",
    "# we can also output other common formats used for population genetics analyses. \n",
    "# We can use tskit to convert the tree sequence to a vcf file called foo.vcf. \n",
    "# See the tskit documentation (tskit.TreeSequence.write_vcf()) for more information.\n",
    "with open(\"foo.vcf\", \"w\") as vcf_file:\n",
    "    ts.write_vcf(vcf_file)\n",
    "\n",
    "\n",
    "\n"
   ]
  }
 ],
 "metadata": {
  "kernelspec": {
   "display_name": "Python 3",
   "language": "python",
   "name": "python3"
  },
  "language_info": {
   "codemirror_mode": {
    "name": "ipython",
    "version": 3
   },
   "file_extension": ".py",
   "mimetype": "text/x-python",
   "name": "python",
   "nbconvert_exporter": "python",
   "pygments_lexer": "ipython3",
   "version": "3.8.0"
  }
 },
 "nbformat": 4,
 "nbformat_minor": 2
}
